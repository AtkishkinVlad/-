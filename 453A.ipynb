{
  "nbformat": 4,
  "nbformat_minor": 0,
  "metadata": {
    "colab": {
      "name": "Untitled0.ipynb",
      "provenance": [],
      "authorship_tag": "ABX9TyPV14y5FudsMxPP0frvuf2s",
      "include_colab_link": true
    },
    "kernelspec": {
      "name": "python3",
      "display_name": "Python 3"
    }
  },
  "cells": [
    {
      "cell_type": "markdown",
      "metadata": {
        "id": "view-in-github",
        "colab_type": "text"
      },
      "source": [
        "<a href=\"https://colab.research.google.com/github/AtkishkinVlad/Diagrams/blob/master/453A.ipynb\" target=\"_parent\"><img src=\"https://colab.research.google.com/assets/colab-badge.svg\" alt=\"Open In Colab\"/></a>"
      ]
    },
    {
      "cell_type": "code",
      "metadata": {
        "id": "0K4eBXE1kZTB",
        "outputId": "927ffbe2-d5d5-4613-e307-de2de5518f43",
        "colab": {
          "base_uri": "https://localhost:8080/",
          "height": 52
        }
      },
      "source": [
        "import math\n",
        "\n",
        "m, n = map(int,input().split())\n",
        "\n",
        "e = 0\n",
        "\n",
        "for i in range(1, m + 1):\n",
        "  e += i * (math.pow(i / m, n) - math.pow((i - 1) / m, n))\n",
        "\n",
        "print(e)"
      ],
      "execution_count": 15,
      "outputs": [
        {
          "output_type": "stream",
          "text": [
            "6 1\n",
            "3.5\n"
          ],
          "name": "stdout"
        }
      ]
    }
  ]
}